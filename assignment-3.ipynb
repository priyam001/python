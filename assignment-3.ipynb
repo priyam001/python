{
 "cells": [
  {
   "cell_type": "markdown",
   "metadata": {},
   "source": [
    "## Module 1: OOP"
   ]
  },
  {
   "cell_type": "code",
   "execution_count": 34,
   "metadata": {},
   "outputs": [],
   "source": [
    "# Problem: Design classes where one is parent & other is child. let child call the parent method. [2 Points]\n",
    "class Parent:\n",
    "    def run_parent_method(self):\n",
    "        return \"This is parent method\"\n",
    "\n",
    "class Child(Parent):\n",
    "    def run_child_method(self):\n",
    "        return \"This is child method\"\n",
    "    \n",
    "def main():\n",
    "    Child().run_parent_method()\n",
    "    Child().run_child_method()\n",
    "main()\n",
    "\n",
    "assert Child().run_parent_method() == \"This is parent method\"\n",
    "assert Child().run_child_method() == \"This is child method\""
   ]
  },
  {
   "cell_type": "code",
   "execution_count": 72,
   "metadata": {
    "scrolled": true
   },
   "outputs": [],
   "source": [
    "# Problem: add private varible for unique id that stores genearted uuid.\n",
    "#          write mechanism to access that variable for class instance object.\n",
    "#          you can use `str(uuid.uuid4())` to generate uuid    [4 Points]\n",
    "import uuid\n",
    "\n",
    "class Employee:\n",
    "    \n",
    "    def __init__(self, name, birth_year):\n",
    "        \n",
    "        self.name = name\n",
    "        self.birth_year = birth_year\n",
    "        self.__uuid=str(uuid.uuid4())\n",
    "        \n",
    "    def getUuid(self):\n",
    "        return(self.__uuid)\n",
    "\n",
    "emp = Employee(\"Foo\", 1998)\n",
    "generated_uuid = emp.getUuid() # replace NoImplemented with provate variable\n",
    "assert isinstance(generated_uuid, str)"
   ]
  },
  {
   "cell_type": "markdown",
   "metadata": {},
   "source": [
    "## Module 2: Iterables"
   ]
  },
  {
   "cell_type": "code",
   "execution_count": null,
   "metadata": {},
   "outputs": [],
   "source": [
    "# Problem: Implement __iter__() and next() method for following class [6 Points]\n",
    "class SquareIterator:\n",
    "    \n",
    "    def __init__(self, limit):\n",
    "        self.limit = limit\n",
    "        self.n = 0\n",
    "    \n",
    "    def __iter__(self):\n",
    "        #TODO: implement this\n",
    "        self.x=0 \n",
    "        return self\n",
    "    \n",
    "    # for python3 compatibility\n",
    "    def __next__(self):\n",
    "        return self.next()\n",
    "    \n",
    "    def next(self):\n",
    "        #TODO: implement this\n",
    "        x=self.x\n",
    "        if x > self.limit: \n",
    "            raise StopIteration\n",
    "        self.x=x**2;\n",
    "        return x\n",
    "\n",
    "        \n",
    "sq_itr1 = SquareIterator(5)\n",
    "assert list(sq_itr1) == [0, 1, 4, 9, 16]\n",
    "\n",
    "sq_itr1 = SquareIterator(101)\n",
    "assert sum(sq_itr1) == 338350"
   ]
  },
  {
   "cell_type": "code",
   "execution_count": null,
   "metadata": {},
   "outputs": [],
   "source": [
    "# Problem: Create student objects with provided list of name and enrollment id using Zip [4 Points]\n",
    "class Student:\n",
    "    \n",
    "    def __init__(self, data):\n",
    "        # TODO: implement this\n",
    "        zipm=zip(names,enrollments)\n",
    "        print(zipm)\n",
    "\n",
    "names = [\"Rahul\", \"Shyam\", \"Krupa\", \"Aakash\"]\n",
    "enrollments = [1122, 2345, 1456, 2295]\n",
    "\n",
    "students = []\n",
    "#TODO: implement loop here\n",
    "for i in range(0,4):\n",
    "    students.append(Student(names[i],enrollments[i]))\n",
    "\n",
    "assert len(students) == 4\n",
    "assert (students[0].name, students[0].roll) == (\"Rahul\", 1122)"
   ]
  },
  {
   "cell_type": "markdown",
   "metadata": {},
   "source": [
    "## Module 3: Data Processing "
   ]
  },
  {
   "cell_type": "code",
   "execution_count": 60,
   "metadata": {},
   "outputs": [
    {
     "name": "stderr",
     "output_type": "stream",
     "text": [
      "'pip3' is not recognized as an internal or external command,\n",
      "operable program or batch file.\n"
     ]
    }
   ],
   "source": [
    "! pip3 install numpy pandas"
   ]
  },
  {
   "cell_type": "code",
   "execution_count": 57,
   "metadata": {},
   "outputs": [],
   "source": [
    "import numpy as np\n",
    "np.random.seed(40)\n",
    "import random"
   ]
  },
  {
   "cell_type": "code",
   "execution_count": 59,
   "metadata": {},
   "outputs": [
    {
     "name": "stdout",
     "output_type": "stream",
     "text": [
      "[[ 7887  8494  4926  6636 11261  1571  3617  1927 13734  3561 11683  1133\n",
      "   2945 11575  6637 14039  3434  5766  2697  4186]\n",
      " [10392 11239  8903  2456 13890  4670  5091  7435  9005 11170 12864 14561\n",
      "   5910  3964  4385  4150 11607  9455 13741  9768]\n",
      " [ 7349  3260  4838  5521  7855 13872  8557 11112  8465  5162  6347  2136\n",
      "  12438  4463  1305 13552  2596 10468  5744  5157]\n",
      " [13354  1789  2808  1817  8050  2754 12777  7819  3393  5976 10362  8348\n",
      "  12566  6130 11841  5480  9365 14943  2205  2238]\n",
      " [14042  3134  1427 14488  9025 13296  4773   972  1014  4998  6854  2114\n",
      "    596  7969  7233  3801 12295  5129  1072  2064]\n",
      " [ 7183  4577  6505  9290  1788  6845  4671  2356 13561  2961 13634  9153\n",
      "   6565 11276  8437 10275  9658 10574  9175  9899]\n",
      " [13021  9150  6895  8794 10744 10935 10186  6895 10150  2766 14353  6033\n",
      "   1468 12212 13367 11632  7626 10430 11643  2218]\n",
      " [ 2862  4044  9516 14322  9586 14094 14307 11607  8987  4124  7646   659\n",
      "   5283  4930  6240 14633 12941  3731  8323  2410]\n",
      " [ 6424  9175  1598  2567 12742 10461 14881 10460 10421  9143  2661  7958\n",
      "   8173  7841  4125  7692 11878  7643  1673  7823]\n",
      " [ 8760 11912  4139   721  9054 11544  1922 12862  8805  6376  9654  5239\n",
      "   6194 14464  3388   755  4863 13100 10753  3055]\n",
      " [ 1540 10707  2148  9659  2647  5466 12533   944  5253  8629  5792  6858\n",
      "   3378  3729  7658  5287  9039  9508  5939  8581]\n",
      " [ 5505  6011  5194  7298  2361 11169  3806 12142  5964 10222 12115 11941\n",
      "  12954  1908  8152 12287  2678  1338  5371 12042]\n",
      " [12583  6665  7257 14876 10678  2019  2870 12618 10189  8965  8522  9589\n",
      "  14251  7792  4613  7430 11693 10997 13501  8832]\n",
      " [ 2061  7854 10711 12221  4364   780 12917  8648  8049  5590 12478  5262\n",
      "   8745  6604  6509 13570 13327  1385  6194  3005]\n",
      " [ 2315  6254  3692  4071  5154  8816 10024  7700 13979  5608  3401  5091\n",
      "    920  9862  5320 11832  7736   716  2218  8983]\n",
      " [ 1983  9412 13120  8998 12755 11457  6641  7398 11115  3366  4269  1484\n",
      "   5124  3098  3284   700  3750  6420  4213  9626]\n",
      " [14657  9705 10163 14277  6588  6276 13201  5125  1895  9506  7656  8984\n",
      "  14740  8574  5105  5950 10721  5674 10125 13884]\n",
      " [ 8989  6145 13518  5216  5096  7376  5851  2197  1858  3777 11399 12772\n",
      "   5745  7464 14503  7571 10272 11654 14777  1729]\n",
      " [ 7309  9342  1395  6815 11915  7558  8098 14394 12864  8520  4083 14550\n",
      "    768  5321 13968  5059  4816  2441  3691  1362]\n",
      " [ 2287 12528  3554  3427  4400  3138  1777 14207 10871  5759 13945 10931\n",
      "   9640  7528  2403  3178 11385  9836  4016  9286]\n",
      " [12157 14676  5268  3414  9621  4602  3927  1250 10377  8143  2714 13531\n",
      "   8594  1400  3414 14563 10613  5858  8269  3589]\n",
      " [13505 10240  6194 11727  3616  4920  4327  1275  8602 14234  5334  7585\n",
      "   5733  7465 12110  1601  3116 14509  6350 10383]\n",
      " [ 1857  5806  4215 11776  8511  7683 11253  2053 13496 10122 11829  4697\n",
      "  14796 14595 11187  9343 11604 10425  1048  9992]\n",
      " [ 8821  8775 11718  5526 12193  8302  5877  7003  9514 12688  2000  4751\n",
      "   7443  9069  6404  8417  4771  4981  2903  4714]\n",
      " [10737  9560 13358  4326  5616  2847 14828 11697  5237 12103  1654 10199\n",
      "   2136  2204  1216 13666  9590 10664 13220  2468]\n",
      " [14667  4134  4642 10309 11563  3026  6993  1752  8779 12271  6489  9767\n",
      "   3097 11108 12088  3444  3840  9489 10261  8521]\n",
      " [  626 12478 11267  4924  6689  4143  8461  2760 11469  5987  6143  1897\n",
      "   6736  7536  9973 11578 13875  2652  1181  7630]\n",
      " [ 4102 11819 14826 11230  7663   887  4826 13068 13824  3807  3128  9676\n",
      "   6829  1976 13114 11506 10002  4473  7816 11602]\n",
      " [ 8495  9823 12506  5978 12226  5392  3543  4181  6234  9335  8528  1671\n",
      "   8853 11504  8247  1402 13710 14354  8314  9556]\n",
      " [ 2261 14901  9817  4004  8647 14863 13849  3039 10857 10129  7530 13249\n",
      "  11263  1917  6145 11819 12749 14156  6782  3516]]\n"
     ]
    }
   ],
   "source": [
    "# Problem: create random integer numpy array with shape (30, 20) and values between 500 & 15000  [2 Points]\n",
    "import numpy as np\n",
    "np_array = np.random.randint(500,15000, size=600).reshape(30,20)\n",
    "print (np_array)"
   ]
  },
  {
   "cell_type": "code",
   "execution_count": 67,
   "metadata": {},
   "outputs": [
    {
     "name": "stdout",
     "output_type": "stream",
     "text": [
      "min  596\n",
      "max among rows :  [14667 14901 14826 14876 13890 14863 14881 14394 13979 14234 14353 14561\n",
      " 14796 14595 14503 14633 13875 14943 14777 13884]\n",
      "mean :  7636.54\n",
      "median :  7657.0\n",
      "standard deviation: 4021.130943950968\n"
     ]
    }
   ],
   "source": [
    "# Problem: use the array created above an compute following: min, max, mean, median, stadard deviation [2 Points]\n",
    "print(\"min \",np_array.min())\n",
    "print(\"max among rows : \",np_array.max(axis=0))\n",
    "print(\"mean : \", np_array.mean())\n",
    "print(\"median : \",np.median(np_array))\n",
    "print(\"standard deviation:\",np.std(np_array))"
   ]
  },
  {
   "cell_type": "code",
   "execution_count": 1,
   "metadata": {},
   "outputs": [
    {
     "data": {
      "text/html": [
       "<div>\n",
       "<style scoped>\n",
       "    .dataframe tbody tr th:only-of-type {\n",
       "        vertical-align: middle;\n",
       "    }\n",
       "\n",
       "    .dataframe tbody tr th {\n",
       "        vertical-align: top;\n",
       "    }\n",
       "\n",
       "    .dataframe thead th {\n",
       "        text-align: right;\n",
       "    }\n",
       "</style>\n",
       "<table border=\"1\" class=\"dataframe\">\n",
       "  <thead>\n",
       "    <tr style=\"text-align: right;\">\n",
       "      <th></th>\n",
       "      <th>Name</th>\n",
       "      <th>Age</th>\n",
       "      <th>Rating</th>\n",
       "    </tr>\n",
       "  </thead>\n",
       "  <tbody>\n",
       "    <tr>\n",
       "      <th>0</th>\n",
       "      <td>smit</td>\n",
       "      <td>15</td>\n",
       "      <td>5</td>\n",
       "    </tr>\n",
       "    <tr>\n",
       "      <th>1</th>\n",
       "      <td>jon</td>\n",
       "      <td>19</td>\n",
       "      <td>6</td>\n",
       "    </tr>\n",
       "    <tr>\n",
       "      <th>2</th>\n",
       "      <td>rey</td>\n",
       "      <td>18</td>\n",
       "      <td>2</td>\n",
       "    </tr>\n",
       "    <tr>\n",
       "      <th>3</th>\n",
       "      <td>jack</td>\n",
       "      <td>11</td>\n",
       "      <td>5</td>\n",
       "    </tr>\n",
       "    <tr>\n",
       "      <th>4</th>\n",
       "      <td>rax</td>\n",
       "      <td>10</td>\n",
       "      <td>8</td>\n",
       "    </tr>\n",
       "    <tr>\n",
       "      <th>5</th>\n",
       "      <td>ali</td>\n",
       "      <td>25</td>\n",
       "      <td>4</td>\n",
       "    </tr>\n",
       "    <tr>\n",
       "      <th>6</th>\n",
       "      <td>dawn</td>\n",
       "      <td>40</td>\n",
       "      <td>9</td>\n",
       "    </tr>\n",
       "  </tbody>\n",
       "</table>\n",
       "</div>"
      ],
      "text/plain": [
       "   Name  Age  Rating\n",
       "0  smit   15       5\n",
       "1   jon   19       6\n",
       "2   rey   18       2\n",
       "3  jack   11       5\n",
       "4   rax   10       8\n",
       "5   ali   25       4\n",
       "6  dawn   40       9"
      ]
     },
     "execution_count": 1,
     "metadata": {},
     "output_type": "execute_result"
    }
   ],
   "source": [
    "# Problem: create pandas dataframe with three columns & seven rows. \n",
    "# Name, Age & Rating. Name: Person's name, Age: Person's age, Rating: credit rating out of 10    [3 Points]\n",
    "import pandas as pd\n",
    "data=[['smit',15,5],['jon',19,6],['rey',18,2],['jack',11,5],['rax',10,8],['ali',25,4],['dawn',40,9]]\n",
    "df = pd.DataFrame(data,columns=['Name','Age','Rating'])\n",
    "df"
   ]
  },
  {
   "cell_type": "code",
   "execution_count": 2,
   "metadata": {},
   "outputs": [
    {
     "name": "stdout",
     "output_type": "stream",
     "text": [
      "avg age: 19.714285714285715\n",
      "avg rating: 5.571428571428571\n",
      "[6, 8, 9]\n",
      "Oldest person: 40\n"
     ]
    }
   ],
   "source": [
    "# use the abouve dataframe and answer following question\n",
    "# what is average age & rating in dataframe  [1 Points]\n",
    "# Give the name for people who has rating more than average [1 Points]\n",
    "# Give the name for person who is oldest [1 Points]\n",
    "\n",
    "print('avg age:',df['Age'].mean())\n",
    "\n",
    "print('avg rating:',df['Rating'].mean())\n",
    "\n",
    "names=[]\n",
    "avg=df['Rating'].mean()\n",
    "for i in df['Rating']:\n",
    "    if i>avg:\n",
    "        names.append(i)\n",
    "print(names)\n",
    "\n",
    "print('Oldest person:',df['Age'].max())"
   ]
  },
  {
   "cell_type": "code",
   "execution_count": null,
   "metadata": {},
   "outputs": [],
   "source": []
  }
 ],
 "metadata": {
  "kernelspec": {
   "display_name": "Python 3",
   "language": "python",
   "name": "python3"
  },
  "language_info": {
   "codemirror_mode": {
    "name": "ipython",
    "version": 3
   },
   "file_extension": ".py",
   "mimetype": "text/x-python",
   "name": "python",
   "nbconvert_exporter": "python",
   "pygments_lexer": "ipython3",
   "version": "3.7.6"
  }
 },
 "nbformat": 4,
 "nbformat_minor": 4
}
